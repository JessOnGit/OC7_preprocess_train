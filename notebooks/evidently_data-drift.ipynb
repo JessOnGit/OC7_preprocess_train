{
 "cells": [
  {
   "cell_type": "code",
   "execution_count": 18,
   "id": "4b6c59d1",
   "metadata": {},
   "outputs": [],
   "source": [
    "import pandas as pd\n",
    "import re\n",
    "\n",
    "from evidently.test_suite import TestSuite\n",
    "from evidently.test_preset import DataStabilityTestPreset\n",
    "\n",
    "from evidently.report import Report\n",
    "from evidently.metric_preset import DataDriftPreset"
   ]
  },
  {
   "cell_type": "code",
   "execution_count": 19,
   "id": "b6dd2b8e",
   "metadata": {},
   "outputs": [],
   "source": [
    "train = pd.read_csv('train_preprocessed_noNA.csv').rename(columns = lambda x:re.sub('[^A-Za-z0-9_]+', '', x))\n",
    "test = pd.read_csv('test_preprocessed_noNA.csv').rename(columns = lambda x:re.sub('[^A-Za-z0-9_]+', '', x))"
   ]
  },
  {
   "cell_type": "code",
   "execution_count": 24,
   "id": "9ede479c",
   "metadata": {},
   "outputs": [
    {
     "data": {
      "text/plain": [
       "(307507, 592)"
      ]
     },
     "execution_count": 24,
     "metadata": {},
     "output_type": "execute_result"
    }
   ],
   "source": [
    "train.shape"
   ]
  },
  {
   "cell_type": "code",
   "execution_count": 20,
   "id": "e36e8e98",
   "metadata": {},
   "outputs": [
    {
     "data": {
      "text/plain": [
       "(307507, 591)"
      ]
     },
     "execution_count": 20,
     "metadata": {},
     "output_type": "execute_result"
    }
   ],
   "source": [
    "train2 = train.drop('TARGET', axis=1)\n",
    "train2.shape"
   ]
  },
  {
   "cell_type": "code",
   "execution_count": 22,
   "id": "57137edf",
   "metadata": {},
   "outputs": [],
   "source": [
    "features_imp = ['EXT_SOURCE_2', 'EXT_SOURCE_3', 'OBS_30_CNT_SOCIAL_CIRCLE', 'CODE_GENDER', \n",
    "                'CNT_FAM_MEMBERS', 'NAME_EDUCATION_TYPE_OHE_Secondarysecondaryspecial', \n",
    "                'NAME_EDUCATION_TYPE_OHE_Highereducation']\n",
    "\n",
    "reference = train2.loc[:,features_imp]\n",
    "current = test.loc[:,features_imp]"
   ]
  },
  {
   "cell_type": "markdown",
   "id": "bb3875dc",
   "metadata": {},
   "source": [
    "# Data Drift Evidently"
   ]
  },
  {
   "cell_type": "code",
   "execution_count": 23,
   "id": "341939ea",
   "metadata": {},
   "outputs": [],
   "source": [
    "data_drift_report = Report(metrics=[\n",
    "    DataDriftPreset(),\n",
    "])\n",
    "\n",
    "data_drift_report.run(current_data=current, reference_data=reference, column_mapping=None)\n",
    "data_drift_report.save_html(\"data_drift.html\")"
   ]
  },
  {
   "cell_type": "code",
   "execution_count": null,
   "id": "644b7d04",
   "metadata": {},
   "outputs": [],
   "source": []
  }
 ],
 "metadata": {
  "kernelspec": {
   "display_name": "Python 3 (ipykernel)",
   "language": "python",
   "name": "python3"
  },
  "language_info": {
   "codemirror_mode": {
    "name": "ipython",
    "version": 3
   },
   "file_extension": ".py",
   "mimetype": "text/x-python",
   "name": "python",
   "nbconvert_exporter": "python",
   "pygments_lexer": "ipython3",
   "version": "3.9.16"
  }
 },
 "nbformat": 4,
 "nbformat_minor": 5
}
